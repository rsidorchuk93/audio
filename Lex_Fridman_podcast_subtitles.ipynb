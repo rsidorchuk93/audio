{
  "nbformat": 4,
  "nbformat_minor": 0,
  "metadata": {
    "colab": {
      "provenance": [],
      "authorship_tag": "ABX9TyMjtEb0LY4znUoV41pl469F",
      "include_colab_link": true
    },
    "kernelspec": {
      "name": "python3",
      "display_name": "Python 3"
    },
    "language_info": {
      "name": "python"
    },
    "widgets": {
      "application/vnd.jupyter.widget-state+json": {
        "834e1d94fd5449a08e1ab5dec91fd994": {
          "model_module": "@jupyter-widgets/controls",
          "model_name": "HBoxModel",
          "model_module_version": "1.5.0",
          "state": {
            "_dom_classes": [],
            "_model_module": "@jupyter-widgets/controls",
            "_model_module_version": "1.5.0",
            "_model_name": "HBoxModel",
            "_view_count": null,
            "_view_module": "@jupyter-widgets/controls",
            "_view_module_version": "1.5.0",
            "_view_name": "HBoxView",
            "box_style": "",
            "children": [
              "IPY_MODEL_113ae7bf0c77426faed8f71a49bff8ca",
              "IPY_MODEL_1ce7a39f0dc741f3b9aa66eeeaec4cb8",
              "IPY_MODEL_c61bfbd454fd460eb4e280c83af5cede"
            ],
            "layout": "IPY_MODEL_6780128970b1484c8efabd26ac3d08f1"
          }
        },
        "113ae7bf0c77426faed8f71a49bff8ca": {
          "model_module": "@jupyter-widgets/controls",
          "model_name": "HTMLModel",
          "model_module_version": "1.5.0",
          "state": {
            "_dom_classes": [],
            "_model_module": "@jupyter-widgets/controls",
            "_model_module_version": "1.5.0",
            "_model_name": "HTMLModel",
            "_view_count": null,
            "_view_module": "@jupyter-widgets/controls",
            "_view_module_version": "1.5.0",
            "_view_name": "HTMLView",
            "description": "",
            "description_tooltip": null,
            "layout": "IPY_MODEL_31ca2a64ea9049ee9e9cbdb2af81c3d5",
            "placeholder": "​",
            "style": "IPY_MODEL_17e3a6ccddba41caa30d66c67b05e894",
            "value": "Downloading (…)olve/main/vocab.json: 100%"
          }
        },
        "1ce7a39f0dc741f3b9aa66eeeaec4cb8": {
          "model_module": "@jupyter-widgets/controls",
          "model_name": "FloatProgressModel",
          "model_module_version": "1.5.0",
          "state": {
            "_dom_classes": [],
            "_model_module": "@jupyter-widgets/controls",
            "_model_module_version": "1.5.0",
            "_model_name": "FloatProgressModel",
            "_view_count": null,
            "_view_module": "@jupyter-widgets/controls",
            "_view_module_version": "1.5.0",
            "_view_name": "ProgressView",
            "bar_style": "success",
            "description": "",
            "description_tooltip": null,
            "layout": "IPY_MODEL_505b154aacf6426d9f7c783f59fa6009",
            "max": 898823,
            "min": 0,
            "orientation": "horizontal",
            "style": "IPY_MODEL_f35e31bd211c44bca700787acc9da13b",
            "value": 898823
          }
        },
        "c61bfbd454fd460eb4e280c83af5cede": {
          "model_module": "@jupyter-widgets/controls",
          "model_name": "HTMLModel",
          "model_module_version": "1.5.0",
          "state": {
            "_dom_classes": [],
            "_model_module": "@jupyter-widgets/controls",
            "_model_module_version": "1.5.0",
            "_model_name": "HTMLModel",
            "_view_count": null,
            "_view_module": "@jupyter-widgets/controls",
            "_view_module_version": "1.5.0",
            "_view_name": "HTMLView",
            "description": "",
            "description_tooltip": null,
            "layout": "IPY_MODEL_5e1c6e297d494dd6843794c1f3e33760",
            "placeholder": "​",
            "style": "IPY_MODEL_0e373fbf72e642158748173426265889",
            "value": " 899k/899k [00:00&lt;00:00, 6.36MB/s]"
          }
        },
        "6780128970b1484c8efabd26ac3d08f1": {
          "model_module": "@jupyter-widgets/base",
          "model_name": "LayoutModel",
          "model_module_version": "1.2.0",
          "state": {
            "_model_module": "@jupyter-widgets/base",
            "_model_module_version": "1.2.0",
            "_model_name": "LayoutModel",
            "_view_count": null,
            "_view_module": "@jupyter-widgets/base",
            "_view_module_version": "1.2.0",
            "_view_name": "LayoutView",
            "align_content": null,
            "align_items": null,
            "align_self": null,
            "border": null,
            "bottom": null,
            "display": null,
            "flex": null,
            "flex_flow": null,
            "grid_area": null,
            "grid_auto_columns": null,
            "grid_auto_flow": null,
            "grid_auto_rows": null,
            "grid_column": null,
            "grid_gap": null,
            "grid_row": null,
            "grid_template_areas": null,
            "grid_template_columns": null,
            "grid_template_rows": null,
            "height": null,
            "justify_content": null,
            "justify_items": null,
            "left": null,
            "margin": null,
            "max_height": null,
            "max_width": null,
            "min_height": null,
            "min_width": null,
            "object_fit": null,
            "object_position": null,
            "order": null,
            "overflow": null,
            "overflow_x": null,
            "overflow_y": null,
            "padding": null,
            "right": null,
            "top": null,
            "visibility": null,
            "width": null
          }
        },
        "31ca2a64ea9049ee9e9cbdb2af81c3d5": {
          "model_module": "@jupyter-widgets/base",
          "model_name": "LayoutModel",
          "model_module_version": "1.2.0",
          "state": {
            "_model_module": "@jupyter-widgets/base",
            "_model_module_version": "1.2.0",
            "_model_name": "LayoutModel",
            "_view_count": null,
            "_view_module": "@jupyter-widgets/base",
            "_view_module_version": "1.2.0",
            "_view_name": "LayoutView",
            "align_content": null,
            "align_items": null,
            "align_self": null,
            "border": null,
            "bottom": null,
            "display": null,
            "flex": null,
            "flex_flow": null,
            "grid_area": null,
            "grid_auto_columns": null,
            "grid_auto_flow": null,
            "grid_auto_rows": null,
            "grid_column": null,
            "grid_gap": null,
            "grid_row": null,
            "grid_template_areas": null,
            "grid_template_columns": null,
            "grid_template_rows": null,
            "height": null,
            "justify_content": null,
            "justify_items": null,
            "left": null,
            "margin": null,
            "max_height": null,
            "max_width": null,
            "min_height": null,
            "min_width": null,
            "object_fit": null,
            "object_position": null,
            "order": null,
            "overflow": null,
            "overflow_x": null,
            "overflow_y": null,
            "padding": null,
            "right": null,
            "top": null,
            "visibility": null,
            "width": null
          }
        },
        "17e3a6ccddba41caa30d66c67b05e894": {
          "model_module": "@jupyter-widgets/controls",
          "model_name": "DescriptionStyleModel",
          "model_module_version": "1.5.0",
          "state": {
            "_model_module": "@jupyter-widgets/controls",
            "_model_module_version": "1.5.0",
            "_model_name": "DescriptionStyleModel",
            "_view_count": null,
            "_view_module": "@jupyter-widgets/base",
            "_view_module_version": "1.2.0",
            "_view_name": "StyleView",
            "description_width": ""
          }
        },
        "505b154aacf6426d9f7c783f59fa6009": {
          "model_module": "@jupyter-widgets/base",
          "model_name": "LayoutModel",
          "model_module_version": "1.2.0",
          "state": {
            "_model_module": "@jupyter-widgets/base",
            "_model_module_version": "1.2.0",
            "_model_name": "LayoutModel",
            "_view_count": null,
            "_view_module": "@jupyter-widgets/base",
            "_view_module_version": "1.2.0",
            "_view_name": "LayoutView",
            "align_content": null,
            "align_items": null,
            "align_self": null,
            "border": null,
            "bottom": null,
            "display": null,
            "flex": null,
            "flex_flow": null,
            "grid_area": null,
            "grid_auto_columns": null,
            "grid_auto_flow": null,
            "grid_auto_rows": null,
            "grid_column": null,
            "grid_gap": null,
            "grid_row": null,
            "grid_template_areas": null,
            "grid_template_columns": null,
            "grid_template_rows": null,
            "height": null,
            "justify_content": null,
            "justify_items": null,
            "left": null,
            "margin": null,
            "max_height": null,
            "max_width": null,
            "min_height": null,
            "min_width": null,
            "object_fit": null,
            "object_position": null,
            "order": null,
            "overflow": null,
            "overflow_x": null,
            "overflow_y": null,
            "padding": null,
            "right": null,
            "top": null,
            "visibility": null,
            "width": null
          }
        },
        "f35e31bd211c44bca700787acc9da13b": {
          "model_module": "@jupyter-widgets/controls",
          "model_name": "ProgressStyleModel",
          "model_module_version": "1.5.0",
          "state": {
            "_model_module": "@jupyter-widgets/controls",
            "_model_module_version": "1.5.0",
            "_model_name": "ProgressStyleModel",
            "_view_count": null,
            "_view_module": "@jupyter-widgets/base",
            "_view_module_version": "1.2.0",
            "_view_name": "StyleView",
            "bar_color": null,
            "description_width": ""
          }
        },
        "5e1c6e297d494dd6843794c1f3e33760": {
          "model_module": "@jupyter-widgets/base",
          "model_name": "LayoutModel",
          "model_module_version": "1.2.0",
          "state": {
            "_model_module": "@jupyter-widgets/base",
            "_model_module_version": "1.2.0",
            "_model_name": "LayoutModel",
            "_view_count": null,
            "_view_module": "@jupyter-widgets/base",
            "_view_module_version": "1.2.0",
            "_view_name": "LayoutView",
            "align_content": null,
            "align_items": null,
            "align_self": null,
            "border": null,
            "bottom": null,
            "display": null,
            "flex": null,
            "flex_flow": null,
            "grid_area": null,
            "grid_auto_columns": null,
            "grid_auto_flow": null,
            "grid_auto_rows": null,
            "grid_column": null,
            "grid_gap": null,
            "grid_row": null,
            "grid_template_areas": null,
            "grid_template_columns": null,
            "grid_template_rows": null,
            "height": null,
            "justify_content": null,
            "justify_items": null,
            "left": null,
            "margin": null,
            "max_height": null,
            "max_width": null,
            "min_height": null,
            "min_width": null,
            "object_fit": null,
            "object_position": null,
            "order": null,
            "overflow": null,
            "overflow_x": null,
            "overflow_y": null,
            "padding": null,
            "right": null,
            "top": null,
            "visibility": null,
            "width": null
          }
        },
        "0e373fbf72e642158748173426265889": {
          "model_module": "@jupyter-widgets/controls",
          "model_name": "DescriptionStyleModel",
          "model_module_version": "1.5.0",
          "state": {
            "_model_module": "@jupyter-widgets/controls",
            "_model_module_version": "1.5.0",
            "_model_name": "DescriptionStyleModel",
            "_view_count": null,
            "_view_module": "@jupyter-widgets/base",
            "_view_module_version": "1.2.0",
            "_view_name": "StyleView",
            "description_width": ""
          }
        },
        "fd6b5682a06a42a4a472e02bd0631f3a": {
          "model_module": "@jupyter-widgets/controls",
          "model_name": "HBoxModel",
          "model_module_version": "1.5.0",
          "state": {
            "_dom_classes": [],
            "_model_module": "@jupyter-widgets/controls",
            "_model_module_version": "1.5.0",
            "_model_name": "HBoxModel",
            "_view_count": null,
            "_view_module": "@jupyter-widgets/controls",
            "_view_module_version": "1.5.0",
            "_view_name": "HBoxView",
            "box_style": "",
            "children": [
              "IPY_MODEL_596ff963441946e59170f5a4151b0d7c",
              "IPY_MODEL_11ccf29476bb4f368f38a1897cc9a2ac",
              "IPY_MODEL_a695fffc43774cb383eda17c41528cdb"
            ],
            "layout": "IPY_MODEL_ab6e78ee7c494accb394f8b871a2869e"
          }
        },
        "596ff963441946e59170f5a4151b0d7c": {
          "model_module": "@jupyter-widgets/controls",
          "model_name": "HTMLModel",
          "model_module_version": "1.5.0",
          "state": {
            "_dom_classes": [],
            "_model_module": "@jupyter-widgets/controls",
            "_model_module_version": "1.5.0",
            "_model_name": "HTMLModel",
            "_view_count": null,
            "_view_module": "@jupyter-widgets/controls",
            "_view_module_version": "1.5.0",
            "_view_name": "HTMLView",
            "description": "",
            "description_tooltip": null,
            "layout": "IPY_MODEL_80643445bbbe434f8b1ea96449a2b359",
            "placeholder": "​",
            "style": "IPY_MODEL_f8778f35a1fe4a2d9f62b35e076f6280",
            "value": "Downloading (…)olve/main/merges.txt: 100%"
          }
        },
        "11ccf29476bb4f368f38a1897cc9a2ac": {
          "model_module": "@jupyter-widgets/controls",
          "model_name": "FloatProgressModel",
          "model_module_version": "1.5.0",
          "state": {
            "_dom_classes": [],
            "_model_module": "@jupyter-widgets/controls",
            "_model_module_version": "1.5.0",
            "_model_name": "FloatProgressModel",
            "_view_count": null,
            "_view_module": "@jupyter-widgets/controls",
            "_view_module_version": "1.5.0",
            "_view_name": "ProgressView",
            "bar_style": "success",
            "description": "",
            "description_tooltip": null,
            "layout": "IPY_MODEL_a57da9e6afec4b8db60410e3c9ff5a61",
            "max": 456318,
            "min": 0,
            "orientation": "horizontal",
            "style": "IPY_MODEL_8e9cce3b558c43d68e2d4f06eb2ffec8",
            "value": 456318
          }
        },
        "a695fffc43774cb383eda17c41528cdb": {
          "model_module": "@jupyter-widgets/controls",
          "model_name": "HTMLModel",
          "model_module_version": "1.5.0",
          "state": {
            "_dom_classes": [],
            "_model_module": "@jupyter-widgets/controls",
            "_model_module_version": "1.5.0",
            "_model_name": "HTMLModel",
            "_view_count": null,
            "_view_module": "@jupyter-widgets/controls",
            "_view_module_version": "1.5.0",
            "_view_name": "HTMLView",
            "description": "",
            "description_tooltip": null,
            "layout": "IPY_MODEL_3943c969edef444191ab7436fc51b563",
            "placeholder": "​",
            "style": "IPY_MODEL_31b1487aa14644c7896585e6f7391124",
            "value": " 456k/456k [00:00&lt;00:00, 2.57MB/s]"
          }
        },
        "ab6e78ee7c494accb394f8b871a2869e": {
          "model_module": "@jupyter-widgets/base",
          "model_name": "LayoutModel",
          "model_module_version": "1.2.0",
          "state": {
            "_model_module": "@jupyter-widgets/base",
            "_model_module_version": "1.2.0",
            "_model_name": "LayoutModel",
            "_view_count": null,
            "_view_module": "@jupyter-widgets/base",
            "_view_module_version": "1.2.0",
            "_view_name": "LayoutView",
            "align_content": null,
            "align_items": null,
            "align_self": null,
            "border": null,
            "bottom": null,
            "display": null,
            "flex": null,
            "flex_flow": null,
            "grid_area": null,
            "grid_auto_columns": null,
            "grid_auto_flow": null,
            "grid_auto_rows": null,
            "grid_column": null,
            "grid_gap": null,
            "grid_row": null,
            "grid_template_areas": null,
            "grid_template_columns": null,
            "grid_template_rows": null,
            "height": null,
            "justify_content": null,
            "justify_items": null,
            "left": null,
            "margin": null,
            "max_height": null,
            "max_width": null,
            "min_height": null,
            "min_width": null,
            "object_fit": null,
            "object_position": null,
            "order": null,
            "overflow": null,
            "overflow_x": null,
            "overflow_y": null,
            "padding": null,
            "right": null,
            "top": null,
            "visibility": null,
            "width": null
          }
        },
        "80643445bbbe434f8b1ea96449a2b359": {
          "model_module": "@jupyter-widgets/base",
          "model_name": "LayoutModel",
          "model_module_version": "1.2.0",
          "state": {
            "_model_module": "@jupyter-widgets/base",
            "_model_module_version": "1.2.0",
            "_model_name": "LayoutModel",
            "_view_count": null,
            "_view_module": "@jupyter-widgets/base",
            "_view_module_version": "1.2.0",
            "_view_name": "LayoutView",
            "align_content": null,
            "align_items": null,
            "align_self": null,
            "border": null,
            "bottom": null,
            "display": null,
            "flex": null,
            "flex_flow": null,
            "grid_area": null,
            "grid_auto_columns": null,
            "grid_auto_flow": null,
            "grid_auto_rows": null,
            "grid_column": null,
            "grid_gap": null,
            "grid_row": null,
            "grid_template_areas": null,
            "grid_template_columns": null,
            "grid_template_rows": null,
            "height": null,
            "justify_content": null,
            "justify_items": null,
            "left": null,
            "margin": null,
            "max_height": null,
            "max_width": null,
            "min_height": null,
            "min_width": null,
            "object_fit": null,
            "object_position": null,
            "order": null,
            "overflow": null,
            "overflow_x": null,
            "overflow_y": null,
            "padding": null,
            "right": null,
            "top": null,
            "visibility": null,
            "width": null
          }
        },
        "f8778f35a1fe4a2d9f62b35e076f6280": {
          "model_module": "@jupyter-widgets/controls",
          "model_name": "DescriptionStyleModel",
          "model_module_version": "1.5.0",
          "state": {
            "_model_module": "@jupyter-widgets/controls",
            "_model_module_version": "1.5.0",
            "_model_name": "DescriptionStyleModel",
            "_view_count": null,
            "_view_module": "@jupyter-widgets/base",
            "_view_module_version": "1.2.0",
            "_view_name": "StyleView",
            "description_width": ""
          }
        },
        "a57da9e6afec4b8db60410e3c9ff5a61": {
          "model_module": "@jupyter-widgets/base",
          "model_name": "LayoutModel",
          "model_module_version": "1.2.0",
          "state": {
            "_model_module": "@jupyter-widgets/base",
            "_model_module_version": "1.2.0",
            "_model_name": "LayoutModel",
            "_view_count": null,
            "_view_module": "@jupyter-widgets/base",
            "_view_module_version": "1.2.0",
            "_view_name": "LayoutView",
            "align_content": null,
            "align_items": null,
            "align_self": null,
            "border": null,
            "bottom": null,
            "display": null,
            "flex": null,
            "flex_flow": null,
            "grid_area": null,
            "grid_auto_columns": null,
            "grid_auto_flow": null,
            "grid_auto_rows": null,
            "grid_column": null,
            "grid_gap": null,
            "grid_row": null,
            "grid_template_areas": null,
            "grid_template_columns": null,
            "grid_template_rows": null,
            "height": null,
            "justify_content": null,
            "justify_items": null,
            "left": null,
            "margin": null,
            "max_height": null,
            "max_width": null,
            "min_height": null,
            "min_width": null,
            "object_fit": null,
            "object_position": null,
            "order": null,
            "overflow": null,
            "overflow_x": null,
            "overflow_y": null,
            "padding": null,
            "right": null,
            "top": null,
            "visibility": null,
            "width": null
          }
        },
        "8e9cce3b558c43d68e2d4f06eb2ffec8": {
          "model_module": "@jupyter-widgets/controls",
          "model_name": "ProgressStyleModel",
          "model_module_version": "1.5.0",
          "state": {
            "_model_module": "@jupyter-widgets/controls",
            "_model_module_version": "1.5.0",
            "_model_name": "ProgressStyleModel",
            "_view_count": null,
            "_view_module": "@jupyter-widgets/base",
            "_view_module_version": "1.2.0",
            "_view_name": "StyleView",
            "bar_color": null,
            "description_width": ""
          }
        },
        "3943c969edef444191ab7436fc51b563": {
          "model_module": "@jupyter-widgets/base",
          "model_name": "LayoutModel",
          "model_module_version": "1.2.0",
          "state": {
            "_model_module": "@jupyter-widgets/base",
            "_model_module_version": "1.2.0",
            "_model_name": "LayoutModel",
            "_view_count": null,
            "_view_module": "@jupyter-widgets/base",
            "_view_module_version": "1.2.0",
            "_view_name": "LayoutView",
            "align_content": null,
            "align_items": null,
            "align_self": null,
            "border": null,
            "bottom": null,
            "display": null,
            "flex": null,
            "flex_flow": null,
            "grid_area": null,
            "grid_auto_columns": null,
            "grid_auto_flow": null,
            "grid_auto_rows": null,
            "grid_column": null,
            "grid_gap": null,
            "grid_row": null,
            "grid_template_areas": null,
            "grid_template_columns": null,
            "grid_template_rows": null,
            "height": null,
            "justify_content": null,
            "justify_items": null,
            "left": null,
            "margin": null,
            "max_height": null,
            "max_width": null,
            "min_height": null,
            "min_width": null,
            "object_fit": null,
            "object_position": null,
            "order": null,
            "overflow": null,
            "overflow_x": null,
            "overflow_y": null,
            "padding": null,
            "right": null,
            "top": null,
            "visibility": null,
            "width": null
          }
        },
        "31b1487aa14644c7896585e6f7391124": {
          "model_module": "@jupyter-widgets/controls",
          "model_name": "DescriptionStyleModel",
          "model_module_version": "1.5.0",
          "state": {
            "_model_module": "@jupyter-widgets/controls",
            "_model_module_version": "1.5.0",
            "_model_name": "DescriptionStyleModel",
            "_view_count": null,
            "_view_module": "@jupyter-widgets/base",
            "_view_module_version": "1.2.0",
            "_view_name": "StyleView",
            "description_width": ""
          }
        },
        "fdf8715fe7b0451b90272af16d1a8a06": {
          "model_module": "@jupyter-widgets/controls",
          "model_name": "HBoxModel",
          "model_module_version": "1.5.0",
          "state": {
            "_dom_classes": [],
            "_model_module": "@jupyter-widgets/controls",
            "_model_module_version": "1.5.0",
            "_model_name": "HBoxModel",
            "_view_count": null,
            "_view_module": "@jupyter-widgets/controls",
            "_view_module_version": "1.5.0",
            "_view_name": "HBoxView",
            "box_style": "",
            "children": [
              "IPY_MODEL_0223fd6baf104577b7ca7b8cbb264476",
              "IPY_MODEL_f7503295ce4f4aeb8fa2febf09381ddf",
              "IPY_MODEL_cbe7b662cb5f46cca0ec67e9198fe8cf"
            ],
            "layout": "IPY_MODEL_c5a59d8c4414408095775c65058a4d47"
          }
        },
        "0223fd6baf104577b7ca7b8cbb264476": {
          "model_module": "@jupyter-widgets/controls",
          "model_name": "HTMLModel",
          "model_module_version": "1.5.0",
          "state": {
            "_dom_classes": [],
            "_model_module": "@jupyter-widgets/controls",
            "_model_module_version": "1.5.0",
            "_model_name": "HTMLModel",
            "_view_count": null,
            "_view_module": "@jupyter-widgets/controls",
            "_view_module_version": "1.5.0",
            "_view_name": "HTMLView",
            "description": "",
            "description_tooltip": null,
            "layout": "IPY_MODEL_85a2630eb0494cf28f314bb0aa50077f",
            "placeholder": "​",
            "style": "IPY_MODEL_d12f394c65ee4c649a4ab8a675289350",
            "value": "Downloading (…)lve/main/config.json: 100%"
          }
        },
        "f7503295ce4f4aeb8fa2febf09381ddf": {
          "model_module": "@jupyter-widgets/controls",
          "model_name": "FloatProgressModel",
          "model_module_version": "1.5.0",
          "state": {
            "_dom_classes": [],
            "_model_module": "@jupyter-widgets/controls",
            "_model_module_version": "1.5.0",
            "_model_name": "FloatProgressModel",
            "_view_count": null,
            "_view_module": "@jupyter-widgets/controls",
            "_view_module_version": "1.5.0",
            "_view_name": "ProgressView",
            "bar_style": "success",
            "description": "",
            "description_tooltip": null,
            "layout": "IPY_MODEL_90426fc23e0c4cbf8721ecb7c47a6c60",
            "max": 1585,
            "min": 0,
            "orientation": "horizontal",
            "style": "IPY_MODEL_0b9354327e0f4666b5b36967eea96a20",
            "value": 1585
          }
        },
        "cbe7b662cb5f46cca0ec67e9198fe8cf": {
          "model_module": "@jupyter-widgets/controls",
          "model_name": "HTMLModel",
          "model_module_version": "1.5.0",
          "state": {
            "_dom_classes": [],
            "_model_module": "@jupyter-widgets/controls",
            "_model_module_version": "1.5.0",
            "_model_name": "HTMLModel",
            "_view_count": null,
            "_view_module": "@jupyter-widgets/controls",
            "_view_module_version": "1.5.0",
            "_view_name": "HTMLView",
            "description": "",
            "description_tooltip": null,
            "layout": "IPY_MODEL_69ef3d95758d49c0803689d8fdeebcd0",
            "placeholder": "​",
            "style": "IPY_MODEL_c93192f46dc34dd6a5fa2057fea082e5",
            "value": " 1.58k/1.58k [00:00&lt;00:00, 17.3kB/s]"
          }
        },
        "c5a59d8c4414408095775c65058a4d47": {
          "model_module": "@jupyter-widgets/base",
          "model_name": "LayoutModel",
          "model_module_version": "1.2.0",
          "state": {
            "_model_module": "@jupyter-widgets/base",
            "_model_module_version": "1.2.0",
            "_model_name": "LayoutModel",
            "_view_count": null,
            "_view_module": "@jupyter-widgets/base",
            "_view_module_version": "1.2.0",
            "_view_name": "LayoutView",
            "align_content": null,
            "align_items": null,
            "align_self": null,
            "border": null,
            "bottom": null,
            "display": null,
            "flex": null,
            "flex_flow": null,
            "grid_area": null,
            "grid_auto_columns": null,
            "grid_auto_flow": null,
            "grid_auto_rows": null,
            "grid_column": null,
            "grid_gap": null,
            "grid_row": null,
            "grid_template_areas": null,
            "grid_template_columns": null,
            "grid_template_rows": null,
            "height": null,
            "justify_content": null,
            "justify_items": null,
            "left": null,
            "margin": null,
            "max_height": null,
            "max_width": null,
            "min_height": null,
            "min_width": null,
            "object_fit": null,
            "object_position": null,
            "order": null,
            "overflow": null,
            "overflow_x": null,
            "overflow_y": null,
            "padding": null,
            "right": null,
            "top": null,
            "visibility": null,
            "width": null
          }
        },
        "85a2630eb0494cf28f314bb0aa50077f": {
          "model_module": "@jupyter-widgets/base",
          "model_name": "LayoutModel",
          "model_module_version": "1.2.0",
          "state": {
            "_model_module": "@jupyter-widgets/base",
            "_model_module_version": "1.2.0",
            "_model_name": "LayoutModel",
            "_view_count": null,
            "_view_module": "@jupyter-widgets/base",
            "_view_module_version": "1.2.0",
            "_view_name": "LayoutView",
            "align_content": null,
            "align_items": null,
            "align_self": null,
            "border": null,
            "bottom": null,
            "display": null,
            "flex": null,
            "flex_flow": null,
            "grid_area": null,
            "grid_auto_columns": null,
            "grid_auto_flow": null,
            "grid_auto_rows": null,
            "grid_column": null,
            "grid_gap": null,
            "grid_row": null,
            "grid_template_areas": null,
            "grid_template_columns": null,
            "grid_template_rows": null,
            "height": null,
            "justify_content": null,
            "justify_items": null,
            "left": null,
            "margin": null,
            "max_height": null,
            "max_width": null,
            "min_height": null,
            "min_width": null,
            "object_fit": null,
            "object_position": null,
            "order": null,
            "overflow": null,
            "overflow_x": null,
            "overflow_y": null,
            "padding": null,
            "right": null,
            "top": null,
            "visibility": null,
            "width": null
          }
        },
        "d12f394c65ee4c649a4ab8a675289350": {
          "model_module": "@jupyter-widgets/controls",
          "model_name": "DescriptionStyleModel",
          "model_module_version": "1.5.0",
          "state": {
            "_model_module": "@jupyter-widgets/controls",
            "_model_module_version": "1.5.0",
            "_model_name": "DescriptionStyleModel",
            "_view_count": null,
            "_view_module": "@jupyter-widgets/base",
            "_view_module_version": "1.2.0",
            "_view_name": "StyleView",
            "description_width": ""
          }
        },
        "90426fc23e0c4cbf8721ecb7c47a6c60": {
          "model_module": "@jupyter-widgets/base",
          "model_name": "LayoutModel",
          "model_module_version": "1.2.0",
          "state": {
            "_model_module": "@jupyter-widgets/base",
            "_model_module_version": "1.2.0",
            "_model_name": "LayoutModel",
            "_view_count": null,
            "_view_module": "@jupyter-widgets/base",
            "_view_module_version": "1.2.0",
            "_view_name": "LayoutView",
            "align_content": null,
            "align_items": null,
            "align_self": null,
            "border": null,
            "bottom": null,
            "display": null,
            "flex": null,
            "flex_flow": null,
            "grid_area": null,
            "grid_auto_columns": null,
            "grid_auto_flow": null,
            "grid_auto_rows": null,
            "grid_column": null,
            "grid_gap": null,
            "grid_row": null,
            "grid_template_areas": null,
            "grid_template_columns": null,
            "grid_template_rows": null,
            "height": null,
            "justify_content": null,
            "justify_items": null,
            "left": null,
            "margin": null,
            "max_height": null,
            "max_width": null,
            "min_height": null,
            "min_width": null,
            "object_fit": null,
            "object_position": null,
            "order": null,
            "overflow": null,
            "overflow_x": null,
            "overflow_y": null,
            "padding": null,
            "right": null,
            "top": null,
            "visibility": null,
            "width": null
          }
        },
        "0b9354327e0f4666b5b36967eea96a20": {
          "model_module": "@jupyter-widgets/controls",
          "model_name": "ProgressStyleModel",
          "model_module_version": "1.5.0",
          "state": {
            "_model_module": "@jupyter-widgets/controls",
            "_model_module_version": "1.5.0",
            "_model_name": "ProgressStyleModel",
            "_view_count": null,
            "_view_module": "@jupyter-widgets/base",
            "_view_module_version": "1.2.0",
            "_view_name": "StyleView",
            "bar_color": null,
            "description_width": ""
          }
        },
        "69ef3d95758d49c0803689d8fdeebcd0": {
          "model_module": "@jupyter-widgets/base",
          "model_name": "LayoutModel",
          "model_module_version": "1.2.0",
          "state": {
            "_model_module": "@jupyter-widgets/base",
            "_model_module_version": "1.2.0",
            "_model_name": "LayoutModel",
            "_view_count": null,
            "_view_module": "@jupyter-widgets/base",
            "_view_module_version": "1.2.0",
            "_view_name": "LayoutView",
            "align_content": null,
            "align_items": null,
            "align_self": null,
            "border": null,
            "bottom": null,
            "display": null,
            "flex": null,
            "flex_flow": null,
            "grid_area": null,
            "grid_auto_columns": null,
            "grid_auto_flow": null,
            "grid_auto_rows": null,
            "grid_column": null,
            "grid_gap": null,
            "grid_row": null,
            "grid_template_areas": null,
            "grid_template_columns": null,
            "grid_template_rows": null,
            "height": null,
            "justify_content": null,
            "justify_items": null,
            "left": null,
            "margin": null,
            "max_height": null,
            "max_width": null,
            "min_height": null,
            "min_width": null,
            "object_fit": null,
            "object_position": null,
            "order": null,
            "overflow": null,
            "overflow_x": null,
            "overflow_y": null,
            "padding": null,
            "right": null,
            "top": null,
            "visibility": null,
            "width": null
          }
        },
        "c93192f46dc34dd6a5fa2057fea082e5": {
          "model_module": "@jupyter-widgets/controls",
          "model_name": "DescriptionStyleModel",
          "model_module_version": "1.5.0",
          "state": {
            "_model_module": "@jupyter-widgets/controls",
            "_model_module_version": "1.5.0",
            "_model_name": "DescriptionStyleModel",
            "_view_count": null,
            "_view_module": "@jupyter-widgets/base",
            "_view_module_version": "1.2.0",
            "_view_name": "StyleView",
            "description_width": ""
          }
        },
        "4b09a5be92134cf9b412f062c69ef5db": {
          "model_module": "@jupyter-widgets/controls",
          "model_name": "HBoxModel",
          "model_module_version": "1.5.0",
          "state": {
            "_dom_classes": [],
            "_model_module": "@jupyter-widgets/controls",
            "_model_module_version": "1.5.0",
            "_model_name": "HBoxModel",
            "_view_count": null,
            "_view_module": "@jupyter-widgets/controls",
            "_view_module_version": "1.5.0",
            "_view_name": "HBoxView",
            "box_style": "",
            "children": [
              "IPY_MODEL_9d080adc0cb542a498e52d8839c3ffb5",
              "IPY_MODEL_e4f75d1fe9fb475cb92a245df71fd0cf",
              "IPY_MODEL_7c184c90672d447cb2d02ad3dc9cfd3e"
            ],
            "layout": "IPY_MODEL_064a6e728e104cd3bd6c755dcd69931b"
          }
        },
        "9d080adc0cb542a498e52d8839c3ffb5": {
          "model_module": "@jupyter-widgets/controls",
          "model_name": "HTMLModel",
          "model_module_version": "1.5.0",
          "state": {
            "_dom_classes": [],
            "_model_module": "@jupyter-widgets/controls",
            "_model_module_version": "1.5.0",
            "_model_name": "HTMLModel",
            "_view_count": null,
            "_view_module": "@jupyter-widgets/controls",
            "_view_module_version": "1.5.0",
            "_view_name": "HTMLView",
            "description": "",
            "description_tooltip": null,
            "layout": "IPY_MODEL_c0a37dc736eb479c9d61342f79ca2164",
            "placeholder": "​",
            "style": "IPY_MODEL_24746a858a86420d9d3e71075c82d7f4",
            "value": "Downloading pytorch_model.bin: 100%"
          }
        },
        "e4f75d1fe9fb475cb92a245df71fd0cf": {
          "model_module": "@jupyter-widgets/controls",
          "model_name": "FloatProgressModel",
          "model_module_version": "1.5.0",
          "state": {
            "_dom_classes": [],
            "_model_module": "@jupyter-widgets/controls",
            "_model_module_version": "1.5.0",
            "_model_name": "FloatProgressModel",
            "_view_count": null,
            "_view_module": "@jupyter-widgets/controls",
            "_view_module_version": "1.5.0",
            "_view_name": "ProgressView",
            "bar_style": "success",
            "description": "",
            "description_tooltip": null,
            "layout": "IPY_MODEL_d03a037ede6043c984bec176612cf47b",
            "max": 1625270765,
            "min": 0,
            "orientation": "horizontal",
            "style": "IPY_MODEL_fe14ae1e75e44d09a8652c3ba5ab760b",
            "value": 1625270765
          }
        },
        "7c184c90672d447cb2d02ad3dc9cfd3e": {
          "model_module": "@jupyter-widgets/controls",
          "model_name": "HTMLModel",
          "model_module_version": "1.5.0",
          "state": {
            "_dom_classes": [],
            "_model_module": "@jupyter-widgets/controls",
            "_model_module_version": "1.5.0",
            "_model_name": "HTMLModel",
            "_view_count": null,
            "_view_module": "@jupyter-widgets/controls",
            "_view_module_version": "1.5.0",
            "_view_name": "HTMLView",
            "description": "",
            "description_tooltip": null,
            "layout": "IPY_MODEL_234ca92519ef436c9d92a59ca59225d9",
            "placeholder": "​",
            "style": "IPY_MODEL_3b07dee677b048a5a748f5c2d20ede44",
            "value": " 1.63G/1.63G [00:15&lt;00:00, 108MB/s]"
          }
        },
        "064a6e728e104cd3bd6c755dcd69931b": {
          "model_module": "@jupyter-widgets/base",
          "model_name": "LayoutModel",
          "model_module_version": "1.2.0",
          "state": {
            "_model_module": "@jupyter-widgets/base",
            "_model_module_version": "1.2.0",
            "_model_name": "LayoutModel",
            "_view_count": null,
            "_view_module": "@jupyter-widgets/base",
            "_view_module_version": "1.2.0",
            "_view_name": "LayoutView",
            "align_content": null,
            "align_items": null,
            "align_self": null,
            "border": null,
            "bottom": null,
            "display": null,
            "flex": null,
            "flex_flow": null,
            "grid_area": null,
            "grid_auto_columns": null,
            "grid_auto_flow": null,
            "grid_auto_rows": null,
            "grid_column": null,
            "grid_gap": null,
            "grid_row": null,
            "grid_template_areas": null,
            "grid_template_columns": null,
            "grid_template_rows": null,
            "height": null,
            "justify_content": null,
            "justify_items": null,
            "left": null,
            "margin": null,
            "max_height": null,
            "max_width": null,
            "min_height": null,
            "min_width": null,
            "object_fit": null,
            "object_position": null,
            "order": null,
            "overflow": null,
            "overflow_x": null,
            "overflow_y": null,
            "padding": null,
            "right": null,
            "top": null,
            "visibility": null,
            "width": null
          }
        },
        "c0a37dc736eb479c9d61342f79ca2164": {
          "model_module": "@jupyter-widgets/base",
          "model_name": "LayoutModel",
          "model_module_version": "1.2.0",
          "state": {
            "_model_module": "@jupyter-widgets/base",
            "_model_module_version": "1.2.0",
            "_model_name": "LayoutModel",
            "_view_count": null,
            "_view_module": "@jupyter-widgets/base",
            "_view_module_version": "1.2.0",
            "_view_name": "LayoutView",
            "align_content": null,
            "align_items": null,
            "align_self": null,
            "border": null,
            "bottom": null,
            "display": null,
            "flex": null,
            "flex_flow": null,
            "grid_area": null,
            "grid_auto_columns": null,
            "grid_auto_flow": null,
            "grid_auto_rows": null,
            "grid_column": null,
            "grid_gap": null,
            "grid_row": null,
            "grid_template_areas": null,
            "grid_template_columns": null,
            "grid_template_rows": null,
            "height": null,
            "justify_content": null,
            "justify_items": null,
            "left": null,
            "margin": null,
            "max_height": null,
            "max_width": null,
            "min_height": null,
            "min_width": null,
            "object_fit": null,
            "object_position": null,
            "order": null,
            "overflow": null,
            "overflow_x": null,
            "overflow_y": null,
            "padding": null,
            "right": null,
            "top": null,
            "visibility": null,
            "width": null
          }
        },
        "24746a858a86420d9d3e71075c82d7f4": {
          "model_module": "@jupyter-widgets/controls",
          "model_name": "DescriptionStyleModel",
          "model_module_version": "1.5.0",
          "state": {
            "_model_module": "@jupyter-widgets/controls",
            "_model_module_version": "1.5.0",
            "_model_name": "DescriptionStyleModel",
            "_view_count": null,
            "_view_module": "@jupyter-widgets/base",
            "_view_module_version": "1.2.0",
            "_view_name": "StyleView",
            "description_width": ""
          }
        },
        "d03a037ede6043c984bec176612cf47b": {
          "model_module": "@jupyter-widgets/base",
          "model_name": "LayoutModel",
          "model_module_version": "1.2.0",
          "state": {
            "_model_module": "@jupyter-widgets/base",
            "_model_module_version": "1.2.0",
            "_model_name": "LayoutModel",
            "_view_count": null,
            "_view_module": "@jupyter-widgets/base",
            "_view_module_version": "1.2.0",
            "_view_name": "LayoutView",
            "align_content": null,
            "align_items": null,
            "align_self": null,
            "border": null,
            "bottom": null,
            "display": null,
            "flex": null,
            "flex_flow": null,
            "grid_area": null,
            "grid_auto_columns": null,
            "grid_auto_flow": null,
            "grid_auto_rows": null,
            "grid_column": null,
            "grid_gap": null,
            "grid_row": null,
            "grid_template_areas": null,
            "grid_template_columns": null,
            "grid_template_rows": null,
            "height": null,
            "justify_content": null,
            "justify_items": null,
            "left": null,
            "margin": null,
            "max_height": null,
            "max_width": null,
            "min_height": null,
            "min_width": null,
            "object_fit": null,
            "object_position": null,
            "order": null,
            "overflow": null,
            "overflow_x": null,
            "overflow_y": null,
            "padding": null,
            "right": null,
            "top": null,
            "visibility": null,
            "width": null
          }
        },
        "fe14ae1e75e44d09a8652c3ba5ab760b": {
          "model_module": "@jupyter-widgets/controls",
          "model_name": "ProgressStyleModel",
          "model_module_version": "1.5.0",
          "state": {
            "_model_module": "@jupyter-widgets/controls",
            "_model_module_version": "1.5.0",
            "_model_name": "ProgressStyleModel",
            "_view_count": null,
            "_view_module": "@jupyter-widgets/base",
            "_view_module_version": "1.2.0",
            "_view_name": "StyleView",
            "bar_color": null,
            "description_width": ""
          }
        },
        "234ca92519ef436c9d92a59ca59225d9": {
          "model_module": "@jupyter-widgets/base",
          "model_name": "LayoutModel",
          "model_module_version": "1.2.0",
          "state": {
            "_model_module": "@jupyter-widgets/base",
            "_model_module_version": "1.2.0",
            "_model_name": "LayoutModel",
            "_view_count": null,
            "_view_module": "@jupyter-widgets/base",
            "_view_module_version": "1.2.0",
            "_view_name": "LayoutView",
            "align_content": null,
            "align_items": null,
            "align_self": null,
            "border": null,
            "bottom": null,
            "display": null,
            "flex": null,
            "flex_flow": null,
            "grid_area": null,
            "grid_auto_columns": null,
            "grid_auto_flow": null,
            "grid_auto_rows": null,
            "grid_column": null,
            "grid_gap": null,
            "grid_row": null,
            "grid_template_areas": null,
            "grid_template_columns": null,
            "grid_template_rows": null,
            "height": null,
            "justify_content": null,
            "justify_items": null,
            "left": null,
            "margin": null,
            "max_height": null,
            "max_width": null,
            "min_height": null,
            "min_width": null,
            "object_fit": null,
            "object_position": null,
            "order": null,
            "overflow": null,
            "overflow_x": null,
            "overflow_y": null,
            "padding": null,
            "right": null,
            "top": null,
            "visibility": null,
            "width": null
          }
        },
        "3b07dee677b048a5a748f5c2d20ede44": {
          "model_module": "@jupyter-widgets/controls",
          "model_name": "DescriptionStyleModel",
          "model_module_version": "1.5.0",
          "state": {
            "_model_module": "@jupyter-widgets/controls",
            "_model_module_version": "1.5.0",
            "_model_name": "DescriptionStyleModel",
            "_view_count": null,
            "_view_module": "@jupyter-widgets/base",
            "_view_module_version": "1.2.0",
            "_view_name": "StyleView",
            "description_width": ""
          }
        },
        "a3817c24abc7488a9ed9867b8f45d4f6": {
          "model_module": "@jupyter-widgets/controls",
          "model_name": "HBoxModel",
          "model_module_version": "1.5.0",
          "state": {
            "_dom_classes": [],
            "_model_module": "@jupyter-widgets/controls",
            "_model_module_version": "1.5.0",
            "_model_name": "HBoxModel",
            "_view_count": null,
            "_view_module": "@jupyter-widgets/controls",
            "_view_module_version": "1.5.0",
            "_view_name": "HBoxView",
            "box_style": "",
            "children": [
              "IPY_MODEL_de643e9567204783b30ccac15f7b19b7",
              "IPY_MODEL_0ca40d4dcdea4f62baa3f2ef3d1cfe56",
              "IPY_MODEL_8ef65cca9ffd42878aae7c7b44d101a3"
            ],
            "layout": "IPY_MODEL_b9a6754df5a24627883671fd91f539de"
          }
        },
        "de643e9567204783b30ccac15f7b19b7": {
          "model_module": "@jupyter-widgets/controls",
          "model_name": "HTMLModel",
          "model_module_version": "1.5.0",
          "state": {
            "_dom_classes": [],
            "_model_module": "@jupyter-widgets/controls",
            "_model_module_version": "1.5.0",
            "_model_name": "HTMLModel",
            "_view_count": null,
            "_view_module": "@jupyter-widgets/controls",
            "_view_module_version": "1.5.0",
            "_view_name": "HTMLView",
            "description": "",
            "description_tooltip": null,
            "layout": "IPY_MODEL_9dde9e8c90d14295a28173e3f6873d00",
            "placeholder": "​",
            "style": "IPY_MODEL_29d9d54ec9334102bdd7417b6b602dba",
            "value": "Downloading (…)neration_config.json: 100%"
          }
        },
        "0ca40d4dcdea4f62baa3f2ef3d1cfe56": {
          "model_module": "@jupyter-widgets/controls",
          "model_name": "FloatProgressModel",
          "model_module_version": "1.5.0",
          "state": {
            "_dom_classes": [],
            "_model_module": "@jupyter-widgets/controls",
            "_model_module_version": "1.5.0",
            "_model_name": "FloatProgressModel",
            "_view_count": null,
            "_view_module": "@jupyter-widgets/controls",
            "_view_module_version": "1.5.0",
            "_view_name": "ProgressView",
            "bar_style": "success",
            "description": "",
            "description_tooltip": null,
            "layout": "IPY_MODEL_3f04276ff01d49f38be72c4aa15d36b6",
            "max": 363,
            "min": 0,
            "orientation": "horizontal",
            "style": "IPY_MODEL_21c560af29ff40fbb799e0ca45d33074",
            "value": 363
          }
        },
        "8ef65cca9ffd42878aae7c7b44d101a3": {
          "model_module": "@jupyter-widgets/controls",
          "model_name": "HTMLModel",
          "model_module_version": "1.5.0",
          "state": {
            "_dom_classes": [],
            "_model_module": "@jupyter-widgets/controls",
            "_model_module_version": "1.5.0",
            "_model_name": "HTMLModel",
            "_view_count": null,
            "_view_module": "@jupyter-widgets/controls",
            "_view_module_version": "1.5.0",
            "_view_name": "HTMLView",
            "description": "",
            "description_tooltip": null,
            "layout": "IPY_MODEL_2d460d0ca03a4588a66830c3b1420d50",
            "placeholder": "​",
            "style": "IPY_MODEL_eaabcee322234efd9f01b5bd5b6616d3",
            "value": " 363/363 [00:00&lt;00:00, 5.95kB/s]"
          }
        },
        "b9a6754df5a24627883671fd91f539de": {
          "model_module": "@jupyter-widgets/base",
          "model_name": "LayoutModel",
          "model_module_version": "1.2.0",
          "state": {
            "_model_module": "@jupyter-widgets/base",
            "_model_module_version": "1.2.0",
            "_model_name": "LayoutModel",
            "_view_count": null,
            "_view_module": "@jupyter-widgets/base",
            "_view_module_version": "1.2.0",
            "_view_name": "LayoutView",
            "align_content": null,
            "align_items": null,
            "align_self": null,
            "border": null,
            "bottom": null,
            "display": null,
            "flex": null,
            "flex_flow": null,
            "grid_area": null,
            "grid_auto_columns": null,
            "grid_auto_flow": null,
            "grid_auto_rows": null,
            "grid_column": null,
            "grid_gap": null,
            "grid_row": null,
            "grid_template_areas": null,
            "grid_template_columns": null,
            "grid_template_rows": null,
            "height": null,
            "justify_content": null,
            "justify_items": null,
            "left": null,
            "margin": null,
            "max_height": null,
            "max_width": null,
            "min_height": null,
            "min_width": null,
            "object_fit": null,
            "object_position": null,
            "order": null,
            "overflow": null,
            "overflow_x": null,
            "overflow_y": null,
            "padding": null,
            "right": null,
            "top": null,
            "visibility": null,
            "width": null
          }
        },
        "9dde9e8c90d14295a28173e3f6873d00": {
          "model_module": "@jupyter-widgets/base",
          "model_name": "LayoutModel",
          "model_module_version": "1.2.0",
          "state": {
            "_model_module": "@jupyter-widgets/base",
            "_model_module_version": "1.2.0",
            "_model_name": "LayoutModel",
            "_view_count": null,
            "_view_module": "@jupyter-widgets/base",
            "_view_module_version": "1.2.0",
            "_view_name": "LayoutView",
            "align_content": null,
            "align_items": null,
            "align_self": null,
            "border": null,
            "bottom": null,
            "display": null,
            "flex": null,
            "flex_flow": null,
            "grid_area": null,
            "grid_auto_columns": null,
            "grid_auto_flow": null,
            "grid_auto_rows": null,
            "grid_column": null,
            "grid_gap": null,
            "grid_row": null,
            "grid_template_areas": null,
            "grid_template_columns": null,
            "grid_template_rows": null,
            "height": null,
            "justify_content": null,
            "justify_items": null,
            "left": null,
            "margin": null,
            "max_height": null,
            "max_width": null,
            "min_height": null,
            "min_width": null,
            "object_fit": null,
            "object_position": null,
            "order": null,
            "overflow": null,
            "overflow_x": null,
            "overflow_y": null,
            "padding": null,
            "right": null,
            "top": null,
            "visibility": null,
            "width": null
          }
        },
        "29d9d54ec9334102bdd7417b6b602dba": {
          "model_module": "@jupyter-widgets/controls",
          "model_name": "DescriptionStyleModel",
          "model_module_version": "1.5.0",
          "state": {
            "_model_module": "@jupyter-widgets/controls",
            "_model_module_version": "1.5.0",
            "_model_name": "DescriptionStyleModel",
            "_view_count": null,
            "_view_module": "@jupyter-widgets/base",
            "_view_module_version": "1.2.0",
            "_view_name": "StyleView",
            "description_width": ""
          }
        },
        "3f04276ff01d49f38be72c4aa15d36b6": {
          "model_module": "@jupyter-widgets/base",
          "model_name": "LayoutModel",
          "model_module_version": "1.2.0",
          "state": {
            "_model_module": "@jupyter-widgets/base",
            "_model_module_version": "1.2.0",
            "_model_name": "LayoutModel",
            "_view_count": null,
            "_view_module": "@jupyter-widgets/base",
            "_view_module_version": "1.2.0",
            "_view_name": "LayoutView",
            "align_content": null,
            "align_items": null,
            "align_self": null,
            "border": null,
            "bottom": null,
            "display": null,
            "flex": null,
            "flex_flow": null,
            "grid_area": null,
            "grid_auto_columns": null,
            "grid_auto_flow": null,
            "grid_auto_rows": null,
            "grid_column": null,
            "grid_gap": null,
            "grid_row": null,
            "grid_template_areas": null,
            "grid_template_columns": null,
            "grid_template_rows": null,
            "height": null,
            "justify_content": null,
            "justify_items": null,
            "left": null,
            "margin": null,
            "max_height": null,
            "max_width": null,
            "min_height": null,
            "min_width": null,
            "object_fit": null,
            "object_position": null,
            "order": null,
            "overflow": null,
            "overflow_x": null,
            "overflow_y": null,
            "padding": null,
            "right": null,
            "top": null,
            "visibility": null,
            "width": null
          }
        },
        "21c560af29ff40fbb799e0ca45d33074": {
          "model_module": "@jupyter-widgets/controls",
          "model_name": "ProgressStyleModel",
          "model_module_version": "1.5.0",
          "state": {
            "_model_module": "@jupyter-widgets/controls",
            "_model_module_version": "1.5.0",
            "_model_name": "ProgressStyleModel",
            "_view_count": null,
            "_view_module": "@jupyter-widgets/base",
            "_view_module_version": "1.2.0",
            "_view_name": "StyleView",
            "bar_color": null,
            "description_width": ""
          }
        },
        "2d460d0ca03a4588a66830c3b1420d50": {
          "model_module": "@jupyter-widgets/base",
          "model_name": "LayoutModel",
          "model_module_version": "1.2.0",
          "state": {
            "_model_module": "@jupyter-widgets/base",
            "_model_module_version": "1.2.0",
            "_model_name": "LayoutModel",
            "_view_count": null,
            "_view_module": "@jupyter-widgets/base",
            "_view_module_version": "1.2.0",
            "_view_name": "LayoutView",
            "align_content": null,
            "align_items": null,
            "align_self": null,
            "border": null,
            "bottom": null,
            "display": null,
            "flex": null,
            "flex_flow": null,
            "grid_area": null,
            "grid_auto_columns": null,
            "grid_auto_flow": null,
            "grid_auto_rows": null,
            "grid_column": null,
            "grid_gap": null,
            "grid_row": null,
            "grid_template_areas": null,
            "grid_template_columns": null,
            "grid_template_rows": null,
            "height": null,
            "justify_content": null,
            "justify_items": null,
            "left": null,
            "margin": null,
            "max_height": null,
            "max_width": null,
            "min_height": null,
            "min_width": null,
            "object_fit": null,
            "object_position": null,
            "order": null,
            "overflow": null,
            "overflow_x": null,
            "overflow_y": null,
            "padding": null,
            "right": null,
            "top": null,
            "visibility": null,
            "width": null
          }
        },
        "eaabcee322234efd9f01b5bd5b6616d3": {
          "model_module": "@jupyter-widgets/controls",
          "model_name": "DescriptionStyleModel",
          "model_module_version": "1.5.0",
          "state": {
            "_model_module": "@jupyter-widgets/controls",
            "_model_module_version": "1.5.0",
            "_model_name": "DescriptionStyleModel",
            "_view_count": null,
            "_view_module": "@jupyter-widgets/base",
            "_view_module_version": "1.2.0",
            "_view_name": "StyleView",
            "description_width": ""
          }
        }
      }
    }
  },
  "cells": [
    {
      "cell_type": "markdown",
      "metadata": {
        "id": "view-in-github",
        "colab_type": "text"
      },
      "source": [
        "<a href=\"https://colab.research.google.com/github/rsidorchuk93/audio/blob/main/Lex_Fridman_podcast_subtitles.ipynb\" target=\"_parent\"><img src=\"https://colab.research.google.com/assets/colab-badge.svg\" alt=\"Open In Colab\"/></a>"
      ]
    },
    {
      "cell_type": "markdown",
      "source": [
        "# Lex Fridman podcast transcripts analysis"
      ],
      "metadata": {
        "id": "ftuDWdCyyZRb"
      }
    },
    {
      "cell_type": "markdown",
      "source": [
        "Transcripts data downloaded from https://karpathy.ai/lexicap/"
      ],
      "metadata": {
        "id": "2q-dNg38yd1S"
      }
    },
    {
      "cell_type": "code",
      "execution_count": 1,
      "metadata": {
        "colab": {
          "base_uri": "https://localhost:8080/"
        },
        "id": "4PwEwBQRyHPi",
        "outputId": "e63cfb8b-7953-4c67-ac54-657429601f4c"
      },
      "outputs": [
        {
          "output_type": "stream",
          "name": "stdout",
          "text": [
            "Mounted at /content/drive\n"
          ]
        }
      ],
      "source": [
        "# connecting to Google drive\n",
        "from google.colab import drive\n",
        "drive.mount('/content/drive')"
      ]
    },
    {
      "cell_type": "code",
      "source": [
        "# importing libraries\n",
        "import pandas as pd\n",
        "import os\n",
        "import re"
      ],
      "metadata": {
        "id": "zCRfMidly3JB"
      },
      "execution_count": 8,
      "outputs": []
    },
    {
      "cell_type": "code",
      "source": [
        "folder = \"/content/drive/My Drive/text/lex_fridman_vtt/\""
      ],
      "metadata": {
        "id": "IK6Pd4Csysjn"
      },
      "execution_count": 4,
      "outputs": []
    },
    {
      "cell_type": "code",
      "source": [
        "os.listdir(folder)[:10]"
      ],
      "metadata": {
        "colab": {
          "base_uri": "https://localhost:8080/"
        },
        "id": "vVHLzR__y7lJ",
        "outputId": "d053efc5-b554-4c2d-9a3d-2fc1f651d89a"
      },
      "execution_count": 115,
      "outputs": [
        {
          "output_type": "execute_result",
          "data": {
            "text/plain": [
              "['episode_232_small.vtt',\n",
              " 'episode_232_large.vtt',\n",
              " 'episode_231_small.vtt',\n",
              " 'episode_231_large.vtt',\n",
              " 'episode_230_large.vtt',\n",
              " 'episode_229_small.vtt',\n",
              " 'episode_228_small.vtt',\n",
              " 'episode_228_large.vtt',\n",
              " 'episode_230_small.vtt',\n",
              " 'episode_229_large.vtt']"
            ]
          },
          "metadata": {},
          "execution_count": 115
        }
      ]
    },
    {
      "cell_type": "code",
      "source": [
        "file_path = '/content/drive/My Drive/text/lex_fridman_vtt/episode_189_large.vtt'\n",
        "# Open the VTT file and read its contents\n",
        "with open('/content/drive/My Drive/text/lex_fridman_vtt/episode_189_large.vtt', 'r') as file:\n",
        "    contents = file.read()\n",
        "\n",
        "# Print the resulting text content\n",
        "contents[:1000]"
      ],
      "metadata": {
        "colab": {
          "base_uri": "https://localhost:8080/",
          "height": 110
        },
        "id": "n8LE_j_Iyqes",
        "outputId": "270534a8-45d0-417b-e01b-fdcc239e26df"
      },
      "execution_count": 114,
      "outputs": [
        {
          "output_type": "execute_result",
          "data": {
            "text/plain": [
              "\"WEBVTT\\n\\n00:00.000 --> 00:02.760\\n The following is a conversation with David Sinclair.\\n\\n00:02.760 --> 00:06.200\\n He's a professor in the Department of Genetics at Harvard\\n\\n00:06.200 --> 00:08.920\\n and co director of the Paul F. Glenn Center\\n\\n00:08.920 --> 00:12.280\\n for the Biology of Aging at Harvard Medical School.\\n\\n00:12.280 --> 00:13.280\\n He's the author of the book,\\n\\n00:13.280 --> 00:16.840\\n Lifespan and co founder of several biotech companies.\\n\\n00:16.840 --> 00:20.800\\n He works on turning age into an engineering problem\\n\\n00:20.800 --> 00:22.160\\n and solving it.\\n\\n00:22.160 --> 00:23.960\\n Driven by a vision of a world\\n\\n00:23.960 --> 00:25.960\\n where billions of people can live much longer\\n\\n00:25.960 --> 00:28.160\\n and much healthier lives.\\n\\n00:28.160 --> 00:30.360\\n Quick mention of our sponsors,\\n\\n00:30.360 --> 00:33.400\\n Onnit, Clear, National Instruments,\\n\\n00:33.400 --> 00:36.840\\n and I, SimpliSafe and Linode.\\n\\n00:36.840 --> 00:40.040\\n Check them out in the description to support t\""
            ],
            "application/vnd.google.colaboratory.intrinsic+json": {
              "type": "string"
            }
          },
          "metadata": {},
          "execution_count": 114
        }
      ]
    },
    {
      "cell_type": "code",
      "source": [
        "def remove_timestamps_vtt(file_path):\n",
        "    with open(file_path, 'r') as file:\n",
        "      content = file.read()\n",
        "\n",
        "    # Remove \"WEBVTT\" header\n",
        "    content = content.replace(\"WEBVTT\", \"\").strip()\n",
        "    \n",
        "    # Remove timestamps\n",
        "    cleaned_content = re.sub(r'(\\d{1,2}:)?\\d{1,2}:\\d{2}\\.\\d{3} --> (\\d{1,2}:)?\\d{1,2}:\\d{2}\\.\\d{3}', '', content)\n",
        "\n",
        "    # Remove extra newline characters\n",
        "    cleaned_content = re.sub(r'\\n{2,}', '\\n', cleaned_content)\n",
        "\n",
        "    # Replace newline characters with spaces\n",
        "    cleaned_content = cleaned_content.replace('\\n', ' ')\n",
        "\n",
        "    # Remove extra whitespaces\n",
        "    cleaned_content = re.sub(r'\\s+', ' ', cleaned_content)\n",
        "\n",
        "    return cleaned_content"
      ],
      "metadata": {
        "id": "kMEfUCm44nAT"
      },
      "execution_count": 47,
      "outputs": []
    },
    {
      "cell_type": "code",
      "source": [
        "cleaned_content = remove_timestamps_vtt(file_path)\n",
        "cleaned_content[:1000]"
      ],
      "metadata": {
        "colab": {
          "base_uri": "https://localhost:8080/",
          "height": 110
        },
        "id": "ECAgtJfA4x4q",
        "outputId": "eea80c8b-eb20-42cb-bba0-1793ae1de772"
      },
      "execution_count": 113,
      "outputs": [
        {
          "output_type": "execute_result",
          "data": {
            "text/plain": [
              "\" The following is a conversation with David Sinclair. He's a professor in the Department of Genetics at Harvard and co director of the Paul F. Glenn Center for the Biology of Aging at Harvard Medical School. He's the author of the book, Lifespan and co founder of several biotech companies. He works on turning age into an engineering problem and solving it. Driven by a vision of a world where billions of people can live much longer and much healthier lives. Quick mention of our sponsors, Onnit, Clear, National Instruments, and I, SimpliSafe and Linode. Check them out in the description to support this podcast. As a side note, let me say that longevity research challenges us to think how science and engineering will change society. Imagine if we can live 100,000 years, even under controlled conditions, like in a spaceship say, then suddenly a trip to Alpha Centauri that is a 4.37 light years away takes a single human lifespan. And on the psychological, maybe even philosophical level, as \""
            ],
            "application/vnd.google.colaboratory.intrinsic+json": {
              "type": "string"
            }
          },
          "metadata": {},
          "execution_count": 113
        }
      ]
    },
    {
      "cell_type": "code",
      "source": [
        "# number of characters\n",
        "len(cleaned_content)"
      ],
      "metadata": {
        "colab": {
          "base_uri": "https://localhost:8080/"
        },
        "id": "1kQB-y0t7Z1b",
        "outputId": "dcede636-75c7-4e62-b5c6-79a6130942d7"
      },
      "execution_count": 116,
      "outputs": [
        {
          "output_type": "execute_result",
          "data": {
            "text/plain": [
              "94352"
            ]
          },
          "metadata": {},
          "execution_count": 116
        }
      ]
    },
    {
      "cell_type": "code",
      "source": [
        "# split by word\n",
        "len(cleaned_content.split())"
      ],
      "metadata": {
        "colab": {
          "base_uri": "https://localhost:8080/"
        },
        "id": "bH_lme307lgP",
        "outputId": "399af649-aee8-4808-e7d8-cdf98fb45bda"
      },
      "execution_count": 51,
      "outputs": [
        {
          "output_type": "execute_result",
          "data": {
            "text/plain": [
              "17456"
            ]
          },
          "metadata": {},
          "execution_count": 51
        }
      ]
    },
    {
      "cell_type": "code",
      "source": [
        "# split by sentence\n",
        "len(re.split(r'[.!?]+', cleaned_content))"
      ],
      "metadata": {
        "colab": {
          "base_uri": "https://localhost:8080/"
        },
        "id": "FdcZEVri7xGx",
        "outputId": "440f4fe3-81c5-413a-de3b-eb4da14c0e08"
      },
      "execution_count": 53,
      "outputs": [
        {
          "output_type": "execute_result",
          "data": {
            "text/plain": [
              "1188"
            ]
          },
          "metadata": {},
          "execution_count": 53
        }
      ]
    },
    {
      "cell_type": "code",
      "source": [
        "# split into chunks so that we could summarize each chunk\n",
        "def split_text(text, max_length):\n",
        "    tokens = tokenizer.encode(text)\n",
        "    num_chunks = (len(tokens) + max_length - 1) // max_length\n",
        "    chunks = []\n",
        "\n",
        "    for i in range(num_chunks):\n",
        "        start = i * max_length\n",
        "        end = (i + 1) * max_length\n",
        "        chunk_tokens = tokens[start:end]\n",
        "        chunk_text = tokenizer.decode(chunk_tokens)\n",
        "        chunks.append(chunk_text)\n",
        "    \n",
        "    return chunks\n",
        "\n",
        "max_length = 1024\n",
        "chunks = split_text(cleaned_content, max_length)"
      ],
      "metadata": {
        "id": "2IyYcBikDOen"
      },
      "execution_count": 99,
      "outputs": []
    },
    {
      "cell_type": "code",
      "source": [
        "len(chunks)"
      ],
      "metadata": {
        "colab": {
          "base_uri": "https://localhost:8080/"
        },
        "id": "yaTs3MCzCzrj",
        "outputId": "8c5a903d-ab28-4384-a6d0-68d6891909ad"
      },
      "execution_count": 101,
      "outputs": [
        {
          "output_type": "execute_result",
          "data": {
            "text/plain": [
              "21"
            ]
          },
          "metadata": {},
          "execution_count": 101
        }
      ]
    },
    {
      "cell_type": "code",
      "source": [
        "pip install transformers -q"
      ],
      "metadata": {
        "colab": {
          "base_uri": "https://localhost:8080/"
        },
        "id": "RbBJggRy86ph",
        "outputId": "908c8edc-6c7d-4cba-aba9-493fc1d6e19e"
      },
      "execution_count": 55,
      "outputs": [
        {
          "output_type": "stream",
          "name": "stdout",
          "text": [
            "\u001b[2K     \u001b[90m━━━━━━━━━━━━━━━━━━━━━━━━━━━━━━━━━━━━━━━━\u001b[0m \u001b[32m6.8/6.8 MB\u001b[0m \u001b[31m38.7 MB/s\u001b[0m eta \u001b[36m0:00:00\u001b[0m\n",
            "\u001b[2K     \u001b[90m━━━━━━━━━━━━━━━━━━━━━━━━━━━━━━━━━━━━━━\u001b[0m \u001b[32m199.8/199.8 KB\u001b[0m \u001b[31m13.1 MB/s\u001b[0m eta \u001b[36m0:00:00\u001b[0m\n",
            "\u001b[2K     \u001b[90m━━━━━━━━━━━━━━━━━━━━━━━━━━━━━━━━━━━━━━━━\u001b[0m \u001b[32m7.6/7.6 MB\u001b[0m \u001b[31m69.1 MB/s\u001b[0m eta \u001b[36m0:00:00\u001b[0m\n",
            "\u001b[?25h"
          ]
        }
      ]
    },
    {
      "cell_type": "code",
      "source": [
        "from transformers import BartTokenizer, BartForConditionalGeneration\n",
        "\n",
        "model_name = 'facebook/bart-large-cnn'\n",
        "tokenizer = BartTokenizer.from_pretrained(model_name)\n",
        "model = BartForConditionalGeneration.from_pretrained(model_name)"
      ],
      "metadata": {
        "colab": {
          "base_uri": "https://localhost:8080/",
          "height": 177,
          "referenced_widgets": [
            "834e1d94fd5449a08e1ab5dec91fd994",
            "113ae7bf0c77426faed8f71a49bff8ca",
            "1ce7a39f0dc741f3b9aa66eeeaec4cb8",
            "c61bfbd454fd460eb4e280c83af5cede",
            "6780128970b1484c8efabd26ac3d08f1",
            "31ca2a64ea9049ee9e9cbdb2af81c3d5",
            "17e3a6ccddba41caa30d66c67b05e894",
            "505b154aacf6426d9f7c783f59fa6009",
            "f35e31bd211c44bca700787acc9da13b",
            "5e1c6e297d494dd6843794c1f3e33760",
            "0e373fbf72e642158748173426265889",
            "fd6b5682a06a42a4a472e02bd0631f3a",
            "596ff963441946e59170f5a4151b0d7c",
            "11ccf29476bb4f368f38a1897cc9a2ac",
            "a695fffc43774cb383eda17c41528cdb",
            "ab6e78ee7c494accb394f8b871a2869e",
            "80643445bbbe434f8b1ea96449a2b359",
            "f8778f35a1fe4a2d9f62b35e076f6280",
            "a57da9e6afec4b8db60410e3c9ff5a61",
            "8e9cce3b558c43d68e2d4f06eb2ffec8",
            "3943c969edef444191ab7436fc51b563",
            "31b1487aa14644c7896585e6f7391124",
            "fdf8715fe7b0451b90272af16d1a8a06",
            "0223fd6baf104577b7ca7b8cbb264476",
            "f7503295ce4f4aeb8fa2febf09381ddf",
            "cbe7b662cb5f46cca0ec67e9198fe8cf",
            "c5a59d8c4414408095775c65058a4d47",
            "85a2630eb0494cf28f314bb0aa50077f",
            "d12f394c65ee4c649a4ab8a675289350",
            "90426fc23e0c4cbf8721ecb7c47a6c60",
            "0b9354327e0f4666b5b36967eea96a20",
            "69ef3d95758d49c0803689d8fdeebcd0",
            "c93192f46dc34dd6a5fa2057fea082e5",
            "4b09a5be92134cf9b412f062c69ef5db",
            "9d080adc0cb542a498e52d8839c3ffb5",
            "e4f75d1fe9fb475cb92a245df71fd0cf",
            "7c184c90672d447cb2d02ad3dc9cfd3e",
            "064a6e728e104cd3bd6c755dcd69931b",
            "c0a37dc736eb479c9d61342f79ca2164",
            "24746a858a86420d9d3e71075c82d7f4",
            "d03a037ede6043c984bec176612cf47b",
            "fe14ae1e75e44d09a8652c3ba5ab760b",
            "234ca92519ef436c9d92a59ca59225d9",
            "3b07dee677b048a5a748f5c2d20ede44",
            "a3817c24abc7488a9ed9867b8f45d4f6",
            "de643e9567204783b30ccac15f7b19b7",
            "0ca40d4dcdea4f62baa3f2ef3d1cfe56",
            "8ef65cca9ffd42878aae7c7b44d101a3",
            "b9a6754df5a24627883671fd91f539de",
            "9dde9e8c90d14295a28173e3f6873d00",
            "29d9d54ec9334102bdd7417b6b602dba",
            "3f04276ff01d49f38be72c4aa15d36b6",
            "21c560af29ff40fbb799e0ca45d33074",
            "2d460d0ca03a4588a66830c3b1420d50",
            "eaabcee322234efd9f01b5bd5b6616d3"
          ]
        },
        "id": "JCnY1VaQ_puW",
        "outputId": "e1b69b9d-47ba-4e30-c84d-f793e8b5f1d2"
      },
      "execution_count": 92,
      "outputs": [
        {
          "output_type": "display_data",
          "data": {
            "text/plain": [
              "Downloading (…)olve/main/vocab.json:   0%|          | 0.00/899k [00:00<?, ?B/s]"
            ],
            "application/vnd.jupyter.widget-view+json": {
              "version_major": 2,
              "version_minor": 0,
              "model_id": "834e1d94fd5449a08e1ab5dec91fd994"
            }
          },
          "metadata": {}
        },
        {
          "output_type": "display_data",
          "data": {
            "text/plain": [
              "Downloading (…)olve/main/merges.txt:   0%|          | 0.00/456k [00:00<?, ?B/s]"
            ],
            "application/vnd.jupyter.widget-view+json": {
              "version_major": 2,
              "version_minor": 0,
              "model_id": "fd6b5682a06a42a4a472e02bd0631f3a"
            }
          },
          "metadata": {}
        },
        {
          "output_type": "display_data",
          "data": {
            "text/plain": [
              "Downloading (…)lve/main/config.json:   0%|          | 0.00/1.58k [00:00<?, ?B/s]"
            ],
            "application/vnd.jupyter.widget-view+json": {
              "version_major": 2,
              "version_minor": 0,
              "model_id": "fdf8715fe7b0451b90272af16d1a8a06"
            }
          },
          "metadata": {}
        },
        {
          "output_type": "display_data",
          "data": {
            "text/plain": [
              "Downloading pytorch_model.bin:   0%|          | 0.00/1.63G [00:00<?, ?B/s]"
            ],
            "application/vnd.jupyter.widget-view+json": {
              "version_major": 2,
              "version_minor": 0,
              "model_id": "4b09a5be92134cf9b412f062c69ef5db"
            }
          },
          "metadata": {}
        },
        {
          "output_type": "display_data",
          "data": {
            "text/plain": [
              "Downloading (…)neration_config.json:   0%|          | 0.00/363 [00:00<?, ?B/s]"
            ],
            "application/vnd.jupyter.widget-view+json": {
              "version_major": 2,
              "version_minor": 0,
              "model_id": "a3817c24abc7488a9ed9867b8f45d4f6"
            }
          },
          "metadata": {}
        }
      ]
    },
    {
      "cell_type": "code",
      "source": [
        "def summarize(text, tokenizer, model):\n",
        "    inputs = tokenizer.encode(\"summarize: \" + text, return_tensors=\"pt\", max_length=1024, truncation=True)\n",
        "    summary_ids = model.generate(inputs, max_length=150, min_length=100, length_penalty=2.0, num_beams=4, early_stopping=True)\n",
        "    summary = tokenizer.decode(summary_ids[0], skip_special_tokens=True)\n",
        "    return summary"
      ],
      "metadata": {
        "id": "EuWVCVDF9oTa"
      },
      "execution_count": 105,
      "outputs": []
    },
    {
      "cell_type": "code",
      "source": [
        "# Summarize the text\n",
        "summary = summarize(chunks[0], tokenizer, model)\n",
        "print(summary)"
      ],
      "metadata": {
        "colab": {
          "base_uri": "https://localhost:8080/"
        },
        "id": "46PLa14YCbNC",
        "outputId": "bac658e0-8048-486f-b3d8-2bd307880e50"
      },
      "execution_count": 106,
      "outputs": [
        {
          "output_type": "stream",
          "name": "stdout",
          "text": [
            "David Sinclair is a professor in the Department of Genetics at Harvard Medical School. He's the author of the book, Lifespan and co founder of several biotech companies. Sinclair: I usually feel like the same person when I was 12. I've still got that boy in me and I can look at things as I would a six-year-old. I have to, on most days, just pretend to be a grownup and be mature, but I definitely don't feel that way.\n"
          ]
        }
      ]
    },
    {
      "cell_type": "code",
      "source": [
        "summarized_chunks = []\n",
        "for chunk in chunks:\n",
        "    inputs = tokenizer(chunk, return_tensors='pt', max_length=max_length, truncation=True, padding='max_length')\n",
        "    summary_ids = model.generate(inputs['input_ids'], num_beams=4, max_length=150, min_length=100, early_stopping=True)\n",
        "    summary = tokenizer.decode(summary_ids[0], skip_special_tokens=True)\n",
        "    summarized_chunks.append(summary)\n",
        "\n",
        "summarized_text = ' '.join(summarized_chunks)"
      ],
      "metadata": {
        "id": "kYyLOMjhEo0r"
      },
      "execution_count": 107,
      "outputs": []
    },
    {
      "cell_type": "code",
      "source": [
        "summarized_chunks"
      ],
      "metadata": {
        "colab": {
          "base_uri": "https://localhost:8080/"
        },
        "id": "aj5jeHSTJA8B",
        "outputId": "f0d5429e-cd76-415c-af1e-30fe8b227775"
      },
      "execution_count": 110,
      "outputs": [
        {
          "output_type": "execute_result",
          "data": {
            "text/plain": [
              "['David Sinclair is a professor in the Department of Genetics at Harvard Medical School. He\\'s the author of the book, Lifespan and co founder of several biotech companies. He works on turning age into an engineering problem and solving it. Sinclair: \"I usually feel like the same person when I was 12. Like when I, right now, as I think about myself, I feel like exactly the sameperson that I was when I were 12\" \"I\\'ve still got that boy in me and I can look at things,\" he says.',\n",
              " 'The writer-director has been working on a project about bringing people back to life through artificial intelligence. He says he\\'d like to bring back people that mean something to us personally, not just Einstein, but people that we\\'ve lost and in that way achieve a kind of small artificial immortality. \"I wouldn\\'t go back in time. I would, but I\\'d prefer to bring him into the future and say, can you believe we have this thinking machine in our pockets now?\" he says.',\n",
              " \"David Perry: I'm a biologist. I find animals and humans as machines very interesting. And so I think a lot about machines merging with humans. And the first of that are the bio wearables. Perry: In the very near future, just in the next few years, you can be wearing wearables to monitor your health. He says doctors are already using them to get patients to go home and save a week in hospital, at least $2,000 at least for each patient.\",\n",
              " \", certainly in developed countries, eventually these will cost a few cents and rechargeable. The only cost will be the software subscription that can be monitored constantly. We've got sneezing, coughing, body temperature, heart rate, heart of other parameters of the heart that would indicate heart health. These data are being used to now to predict sickness. Eventually we'll have just in the next year or so the ability to predict whether something or diagnose whether something is pneumonia or just a rhinovirus. This is really going to revolutionize medicine, but I think extend lives dramatically.\",\n",
              " \"Theory of aging came out of discoveries in yeast cells, where he went to MIT in the 1990s. He studied the makers of bread, a little yeast called Saccharomyces cerevisiae, which at the time was one of the hottest, excuse the pun, organisms to work on. He found genes that control that process and made them live longer, which was an amazing four years of my life. And then I've been looking in humans and mice to study where the loss of information in our bodies is a root of aging.\",\n",
              " \"In mice, one way to slow down the loss of information is to just give more of these genes. We made a mouse that has more of this SIRT1 gene, turned it on, and that slowed down the aging of the brain and preserved their information. We've been spending about the last five years to try and find if there really is a backup copy in the body to reset the epigenome and polish scratches away. Like the TCPIP protocol of the internet that stores information in case it doesn't make it to your computer, it will fill in the gaps.\",\n",
              " \"We're not designed to age, we just live as long as we need to and then we're at the whim of entropy, basically. We live a bit longer than age 40, only because there are robust, resilient systems, but eventually they fail as well. The first one is broken chromosomes. When a chromosome breaks, the cell has to panic because that's either gonna cause a cancer or kill the cell. And we've also, the other cause of aging that we found is cell stress, we damage nerves and they age rapidly. We have in our bodies close to a trillion DNA breaks every day.\",\n",
              " \" AI can replicate the aging process in a controlled way. We're using it to predict the folding of proteins so we can target molecules and modulate their activity. The other thing we use it for is to predict a mouse's lifespan based on how it reacts to certain things, generally frailty, generally hearing, sight. We use it to generate these biological clocks to be able to read those biological clocks. And we're going into human studies in less than two years from now. We just published this in the December 2020 issue of Nature. We found a reset switch recently.\",\n",
              " \"The amount of data that we generate now as biologists is just terabytes. Ultimately, we're going to, even if we don't want to, have to be monitored. There's gonna be a court case that, I bet two, three years from now, someone's gonna say, how come my father died from a heart attack? You had these biosensors, 20 bucks, and you didn't use it. Lawsuit right there, and suddenly, all hospitals have to give you one of these.\",\n",
              " '\"I think doctors sometimes have a bit of an ego,\" he says. \"There\\'s an aspect to it where the doctor has to put their expert hat, like take it off and actually be a curious, open minded person and study and look at that data\" \"I hope we do create kind of systems where I can volunteer to share my data and I can also take the data back, meaning like delete the data, request deletion of data,\" he adds. \"I feel like if I have the option to delete all my data that a particular company has, then I\\'ll share myData with everyone\"',\n",
              " 'Fasting is one of the oldest ways to improve health, says Dr. Richard Quest. Quest: \"You start to see your body\\'s almost as a machine that takes food and produces thoughts\" Quest: If there was one thing I would recommend to anybody to slow down aging would be to skip a meal or two a day. \"I have my physique back that I had when I was 20. I feel 20 mentally. I don\\'t feel tired anymore. I sleep well,\" Quest says.',\n",
              " '\"I would like to cheat, I guess, by eating more meat than I, you know, like overeating on the things that I know my body feels good on,\" Rogan says. \"I tend to find happiness in overeating the good stuff versus eating the bad stuff,\" he adds. \"What\\'s a long life if it\\'s not enjoyable anyway?\" Rogan asks. \"It\\'s a balance that you have to strike,\" he says. \\'I will eat occasional, very occasionally a dessert. Usually I steal from others\\'',\n",
              " \"In animals we know that there's a mechanism that's called mTOR, little m, capital TOR, that responds to certain amino acids that are found in more abundance in meat. And when it responds, it actually shortens lifespan. And the converse, if you starve it of those three amino acids, mostly in meat, then it extends lifespan. But getting to the bottom of this, what I think is going on is that just like testosterone and growth hormone, you will get temporary, maybe not temporary, immediate health benefits. But the problem is I think it's at the expense of longterm health and longevity.\",\n",
              " 'CNN\\'s John Sutter talks about the benefits of exercise and fasting. He also talks about his love of brown noise. Sutter: \"You have to keep a lot of things in mind so you\\'re constantly designing things in concrete by making those things in those concrete things in a very precise way. You have quite a different mind, you have a quite a beautiful mind, and you have to explore it\" Click here for more from Sutter\\'s book, \"The Power of One,\" out now.',\n",
              " '\"I would guess based on the evidence that it\\'s really important and because we don\\'t know for sure\" \"If you restrict sleep from a rat for just two weeks, it\\'ll develop type two diabetes. So that\\'s the main thing. What we also know is at the molecular level that if you disrupt your sleep wake cycle, you\\'ll get premature aging\" \"As long as I have a stupid private, usually smile on my face, that\\'s when I\\'m doing good, as opposed to getting a perfect amount of sleep according to whatever the latest blog post is\"',\n",
              " \"It's the quality, not the quantity, right? And when you get it. So that, like you say, if you're happy and contented and you don't have these cortisol chemicals going through your body, you will more naturally get into that deep state. And even if you just get four hours, way better than eight hours of none of that. So you've got to work on your brain first and foremost. If you are totally freaked out, agitated all the time, you'll live shorter. I'm certain of it. That's no true surprise.\",\n",
              " \"The future of data collection look like for the human biological system. You'll get a kit in the mail, you'll swab your cheeks, stick it back in an envelope, send it off and a week later you have either a doctor's report or a health recommendation. And what can you get off a cheek swab? Well, you can get hormones, stress levels, stress hormones, blood glucose levels. You can also tell your age reasonably accurately doing that, actually quite accurately.\",\n",
              " \"If you do the right things in your life, which is eat healthy food, don't overeat and don't become obese, that gives you on average 14 extra years. I think that we should all aim to at least reach a century. I was born too early to benefit the most from all of this discovery. Those of you who are in your 20s, you should definitely aim to reach a hundred. How long can we ultimately live? Well, there's no maximum limit to human lifespan. There's nothing that I've seen that says biological organisms have to die.\",\n",
              " \"We're already replacing body parts but what makes us human is our brain. The ability to replace actual neurons is really hard. I'd rather go in and rejuvenate the brain as it sits rather than replace individual cells. Ultimately, I think the best way to preserve the brain is going to be to record it. We're not close, yes, but we've made quite a bit of progress, so if you're an exponential type of person. Yeah, well, let's dream a little here.\",\n",
              " \"We live in an illusion that we're not going to die and we run from that terror. All living life forms have evolved to not want to die. The thought about dying is so traumatic that there is an innate part of our brains. And it's probably genetically wired to not think about it. So death gives meaning to life, is what Viktor Frankl argues. There's something about the scarcity of life and contemplating that, that makes each moment that much sweeter. And even if I thought I was going to live forever, I would still be enjoying this moment just as much.\",\n",
              " 'David Sinclair: Even if you think you can live forever, you can enjoy every day. Sinclair: Everything\\'s relative. We can compare ourselves to our neighbor who has more money or to the flight that should have had wifi. He says we are wondrous things in the universe and probably the most wondrousThings in the. universe. \"It\\'s such a beautiful poem. Now I\\'m six, I\\'m as clever as clever, so I think I\\'ll be six now forever and ever,\" Sinclair says.']"
            ]
          },
          "metadata": {},
          "execution_count": 110
        }
      ]
    },
    {
      "cell_type": "code",
      "source": [
        "len(summarized_text)"
      ],
      "metadata": {
        "colab": {
          "base_uri": "https://localhost:8080/"
        },
        "id": "S3ujDCMoLcNw",
        "outputId": "edad6ba1-b1c3-43f2-f9e3-4f59630868a4"
      },
      "execution_count": 111,
      "outputs": [
        {
          "output_type": "execute_result",
          "data": {
            "text/plain": [
              "10387"
            ]
          },
          "metadata": {},
          "execution_count": 111
        }
      ]
    }
  ]
}