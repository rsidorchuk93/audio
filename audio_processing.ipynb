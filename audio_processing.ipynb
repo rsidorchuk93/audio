{
  "nbformat": 4,
  "nbformat_minor": 0,
  "metadata": {
    "colab": {
      "provenance": [],
      "include_colab_link": true
    },
    "kernelspec": {
      "name": "python3",
      "display_name": "Python 3"
    },
    "language_info": {
      "name": "python"
    }
  },
  "cells": [
    {
      "cell_type": "markdown",
      "metadata": {
        "id": "view-in-github",
        "colab_type": "text"
      },
      "source": [
        "<a href=\"https://colab.research.google.com/github/rsidorchuk93/audio/blob/main/audio_processing.ipynb\" target=\"_parent\"><img src=\"https://colab.research.google.com/assets/colab-badge.svg\" alt=\"Open In Colab\"/></a>"
      ]
    },
    {
      "cell_type": "markdown",
      "source": [
        "# Audio processing"
      ],
      "metadata": {
        "id": "c9DAxOCnABfl"
      }
    },
    {
      "cell_type": "code",
      "source": [
        "!pip install transformers pydub librosa resampy -q"
      ],
      "metadata": {
        "id": "brahRY2ABkdX"
      },
      "execution_count": null,
      "outputs": []
    },
    {
      "cell_type": "code",
      "source": [
        "from google.colab import drive\n",
        "drive.mount('/content/drive')"
      ],
      "metadata": {
        "colab": {
          "base_uri": "https://localhost:8080/"
        },
        "id": "vDC1eMXYBDQg",
        "outputId": "c2511cc0-b1b2-4be8-dfd4-12b6e6cacf26"
      },
      "execution_count": null,
      "outputs": [
        {
          "output_type": "stream",
          "name": "stdout",
          "text": [
            "Drive already mounted at /content/drive; to attempt to forcibly remount, call drive.mount(\"/content/drive\", force_remount=True).\n"
          ]
        }
      ]
    },
    {
      "cell_type": "markdown",
      "source": [
        "## Upload audio file and play it"
      ],
      "metadata": {
        "id": "StBehYzUPgzQ"
      }
    },
    {
      "cell_type": "code",
      "source": [
        "from IPython.display import Audio\n",
        "\n",
        "# Load the audio file\n",
        "audio_file = '/content/drive/My Drive/test/audio/me_neutral.ogg'\n",
        "\n",
        "# Play the audio file\n",
        "Audio(audio_file, rate=44100)"
      ],
      "metadata": {
        "colab": {
          "base_uri": "https://localhost:8080/",
          "height": 75
        },
        "id": "-SRCR_4MCC-d",
        "outputId": "b11a9b8a-1d27-4d81-9eb8-1e5bdeee462e"
      },
      "execution_count": null,
      "outputs": [
        {
          "output_type": "execute_result",
          "data": {
            "text/plain": [
              "<IPython.lib.display.Audio object>"
            ],
            "text/html": [
              "\n",
              "                <audio  controls=\"controls\" >\n",
              "                    <source src=\"data:audio/ogg;base64,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\" type=\"audio/ogg\" />\n",
              "                    Your browser does not support the audio element.\n",
              "                </audio>\n",
              "              "
            ]
          },
          "metadata": {},
          "execution_count": 55
        }
      ]
    },
    {
      "cell_type": "markdown",
      "source": [
        "## Transcribe with Open AI Whisper transformer"
      ],
      "metadata": {
        "id": "qc7NEuobPU-c"
      }
    },
    {
      "cell_type": "code",
      "source": [
        "from transformers import WhisperProcessor, WhisperForConditionalGeneration\n",
        "import torchaudio\n",
        "\n",
        "# load model and processor\n",
        "processor = WhisperProcessor.from_pretrained(\"openai/whisper-tiny.en\")\n",
        "model = WhisperForConditionalGeneration.from_pretrained(\"openai/whisper-tiny.en\")\n",
        "\n",
        "# read audio file\n",
        "audio_file = '/content/drive/My Drive/test/audio/me_neutral.ogg'\n",
        "input_signal, original_sampling_rate = torchaudio.load(audio_file)\n",
        "\n",
        "# resample audio data\n",
        "resampler = torchaudio.transforms.Resample(original_sampling_rate, 16000)\n",
        "input_signal = resampler(input_signal)\n",
        "sampling_rate = 16000\n",
        "\n",
        "# preprocess audio\n",
        "input_features = processor(input_signal.numpy()[0], sampling_rate=sampling_rate, return_tensors=\"pt\").input_features\n",
        "\n",
        "# generate token ids\n",
        "predicted_ids = model.generate(input_features)\n",
        "# decode token ids to text\n",
        "transcription = processor.batch_decode(predicted_ids, skip_special_tokens=True)\n",
        "\n",
        "print(transcription)"
      ],
      "metadata": {
        "colab": {
          "base_uri": "https://localhost:8080/"
        },
        "id": "fSARVbEmDgCZ",
        "outputId": "60985e97-9b35-4243-c8aa-cb5236826eaf"
      },
      "execution_count": null,
      "outputs": [
        {
          "output_type": "stream",
          "name": "stderr",
          "text": [
            "/usr/local/lib/python3.9/dist-packages/transformers/generation/utils.py:1288: UserWarning: Using `max_length`'s default (448) to control the generation length. This behaviour is deprecated and will be removed from the config in v5 of Transformers -- we recommend using `max_new_tokens` to control the maximum length of the generation.\n",
            "  warnings.warn(\n"
          ]
        },
        {
          "output_type": "stream",
          "name": "stdout",
          "text": [
            "[' Hello, my name is Roman, how are you doing?']\n"
          ]
        }
      ]
    },
    {
      "cell_type": "markdown",
      "source": [
        "## Recignize emotions"
      ],
      "metadata": {
        "id": "k1DFmrTKPrEz"
      }
    },
    {
      "cell_type": "code",
      "source": [
        "import torch\n",
        "import resampy\n",
        "from transformers import Wav2Vec2Processor, Wav2Vec2ForSequenceClassification\n",
        "\n",
        "# load model and processor\n",
        "model_name_or_path = \"facebook/wav2vec2-base-960h\"\n",
        "processor = Wav2Vec2Processor.from_pretrained(model_name_or_path)\n",
        "model = Wav2Vec2ForSequenceClassification.from_pretrained(model_name_or_path, num_labels=4)\n",
        "\n",
        "# define label mapping\n",
        "label_mapping = {0: \"neutral\", 1: \"happy\", 2: \"sad\", 3: \"angry\"}"
      ],
      "metadata": {
        "colab": {
          "base_uri": "https://localhost:8080/"
        },
        "id": "KCj8wCRJNu1Y",
        "outputId": "6dd70522-dcbf-4a07-ede7-23ea1d72fb62"
      },
      "execution_count": null,
      "outputs": [
        {
          "output_type": "stream",
          "name": "stderr",
          "text": [
            "Some weights of the model checkpoint at facebook/wav2vec2-base-960h were not used when initializing Wav2Vec2ForSequenceClassification: ['lm_head.bias', 'lm_head.weight']\n",
            "- This IS expected if you are initializing Wav2Vec2ForSequenceClassification from the checkpoint of a model trained on another task or with another architecture (e.g. initializing a BertForSequenceClassification model from a BertForPreTraining model).\n",
            "- This IS NOT expected if you are initializing Wav2Vec2ForSequenceClassification from the checkpoint of a model that you expect to be exactly identical (initializing a BertForSequenceClassification model from a BertForSequenceClassification model).\n",
            "Some weights of Wav2Vec2ForSequenceClassification were not initialized from the model checkpoint at facebook/wav2vec2-base-960h and are newly initialized: ['projector.weight', 'classifier.bias', 'projector.bias', 'wav2vec2.masked_spec_embed', 'classifier.weight']\n",
            "You should probably TRAIN this model on a down-stream task to be able to use it for predictions and inference.\n"
          ]
        }
      ]
    },
    {
      "cell_type": "code",
      "source": [
        "# read audio file\n",
        "audio_file = '/content/drive/My Drive/test/audio/me_positive.ogg'\n",
        "input_signal, sampling_rate = torchaudio.load(audio_file)\n",
        "\n",
        "# resample audio\n",
        "input_signal = input_signal.numpy()[0]\n",
        "input_signal = resampy.resample(input_signal, sampling_rate, 16000)\n",
        "\n",
        "# preprocess audio\n",
        "input_values = processor(input_signal, sampling_rate=16000, return_tensors=\"pt\").input_values\n",
        "\n",
        "# generate token ids\n",
        "logits = model(input_values).logits\n",
        "predicted_class = torch.argmax(logits, dim=-1).item()\n",
        "\n",
        "# map predicted class to label\n",
        "predicted_label = label_mapping[predicted_class]\n",
        "\n",
        "print(\"Predicted Emotion: \", predicted_label)"
      ],
      "metadata": {
        "colab": {
          "base_uri": "https://localhost:8080/"
        },
        "id": "--xsCe0EOorF",
        "outputId": "bf884d3f-2703-451b-c26b-7cb9f69e4af7"
      },
      "execution_count": null,
      "outputs": [
        {
          "output_type": "stream",
          "name": "stdout",
          "text": [
            "Predicted Emotion:  neutral\n"
          ]
        }
      ]
    }
  ]
}